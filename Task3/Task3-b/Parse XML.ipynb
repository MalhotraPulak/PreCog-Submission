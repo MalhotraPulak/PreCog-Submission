{
 "cells": [
  {
   "cell_type": "code",
   "execution_count": 5,
   "metadata": {
    "ExecuteTime": {
     "end_time": "2020-12-16T10:00:21.981697Z",
     "start_time": "2020-12-16T10:00:21.978954Z"
    }
   },
   "outputs": [],
   "source": [
    "import pymongo\n",
    "from pymongo import MongoClient\n",
    "import xml.etree.ElementTree as ET"
   ]
  },
  {
   "cell_type": "code",
   "execution_count": 6,
   "metadata": {
    "ExecuteTime": {
     "end_time": "2020-12-16T10:00:22.403779Z",
     "start_time": "2020-12-16T10:00:22.393136Z"
    }
   },
   "outputs": [
    {
     "name": "stdout",
     "output_type": "stream",
     "text": [
      "['admin', 'config', 'db1', 'local']\n",
      "['example', 'Users', 'Tags']\n"
     ]
    }
   ],
   "source": [
    "client = MongoClient()\n",
    "client = MongoClient('localhost', 27017)\n",
    "db = client[\"db1\"]\n",
    "print(client.list_database_names())\n",
    "print(db.list_collection_names())"
   ]
  },
  {
   "cell_type": "code",
   "execution_count": 7,
   "metadata": {
    "ExecuteTime": {
     "end_time": "2020-12-16T10:00:23.207053Z",
     "start_time": "2020-12-16T10:00:23.202477Z"
    }
   },
   "outputs": [],
   "source": [
    "## FOR FILES LESS THAN MEMORY SIZE\n",
    "def XML_to_Mongo_Small(coll_name, file_name):\n",
    "    c = 0\n",
    "    root = ET.parse(f'stackoverflow.com/{file_name}').getroot()\n",
    "    user_coll = db[coll_name]\n",
    "    users = []\n",
    "    for typetag in root.findall(\"row\"):\n",
    "        c += 1\n",
    "        value = typetag.get('Id')\n",
    "        print(value)\n",
    "        user_data = typetag.attrib\n",
    "        users.append(user_data)\n",
    "        if(c >= 1000):\n",
    "            user_coll.insert_many(users)\n",
    "            users.clear()\n",
    "            c = 0\n",
    "    user_coll.insert_many(users)\n",
    "    users.clear()\n",
    "    print(user_coll.count_documents({}))"
   ]
  },
  {
   "cell_type": "code",
   "execution_count": 21,
   "metadata": {
    "ExecuteTime": {
     "end_time": "2020-12-16T10:23:35.102414Z",
     "start_time": "2020-12-16T10:23:35.094352Z"
    }
   },
   "outputs": [],
   "source": [
    "## FOR FILES BIGGER THAN MEMORY SIZE\n",
    "def XML_to_Mongo_Large(coll_name, file_name):\n",
    "    c = 0\n",
    "    user_coll = db[coll_name]\n",
    "    \n",
    "    users = []\n",
    "    for event, typetag in ET.iterparse(f'stackoverflow.com/{file_name}', events=(\"start\", \"end\")):\n",
    "        if event == \"start\":\n",
    "            c += 1\n",
    "            value = typetag.get('Id')\n",
    "            if typetag.tag != \"row\":\n",
    "                continue\n",
    "            user_data = typetag.attrib\n",
    "            users.append(user_data)\n",
    "            if(c >= 1000):\n",
    "                user_coll.insert_many(users)\n",
    "                users.clear()\n",
    "                c = 0\n",
    "        typetag.clear()\n",
    "    user_coll.insert_many(users)\n",
    "    users.clear()\n",
    "    print(user_coll.count_documents({}))"
   ]
  },
  {
   "cell_type": "code",
   "execution_count": 22,
   "metadata": {
    "ExecuteTime": {
     "end_time": "2020-12-16T10:32:34.938166Z",
     "start_time": "2020-12-16T10:29:26.059025Z"
    }
   },
   "outputs": [
    {
     "name": "stdout",
     "output_type": "stream",
     "text": [
      "3380601\n"
     ]
    }
   ],
   "source": [
    "XML_to_Mongo_Large(\"Posts\", \"Posts.xml\") ## DO THIS ONE BY ONE FOR ALL THE XML FILES"
   ]
  },
  {
   "cell_type": "code",
   "execution_count": 12,
   "metadata": {
    "ExecuteTime": {
     "end_time": "2020-12-16T10:10:53.506872Z",
     "start_time": "2020-12-16T10:10:53.458146Z"
    }
   },
   "outputs": [
    {
     "name": "stdout",
     "output_type": "stream",
     "text": [
      "57464\n"
     ]
    }
   ],
   "source": [
    "print(db[\"Tags\"].count_documents({}))"
   ]
  },
  {
   "cell_type": "code",
   "execution_count": 26,
   "metadata": {
    "ExecuteTime": {
     "end_time": "2020-12-16T10:42:23.461387Z",
     "start_time": "2020-12-16T10:42:23.457897Z"
    }
   },
   "outputs": [
    {
     "name": "stdout",
     "output_type": "stream",
     "text": [
      "['Votes', 'Posts', 'Users', 'Tags']\n"
     ]
    }
   ],
   "source": [
    "print(db.list_collection_names())"
   ]
  },
  {
   "cell_type": "code",
   "execution_count": 29,
   "metadata": {
    "ExecuteTime": {
     "end_time": "2020-12-16T10:44:48.751599Z",
     "start_time": "2020-12-16T10:44:28.044887Z"
    }
   },
   "outputs": [
    {
     "name": "stdout",
     "output_type": "stream",
     "text": [
      "Votes 13516747\n",
      "Posts 3380601\n",
      "Users 670395\n",
      "Tags 57464\n"
     ]
    }
   ],
   "source": [
    "for name in db.list_collection_names():\n",
    "    print(name, db[name].count_documents({}))"
   ]
  }
 ],
 "metadata": {
  "kernelspec": {
   "display_name": "Python 3",
   "language": "python",
   "name": "python3"
  },
  "language_info": {
   "codemirror_mode": {
    "name": "ipython",
    "version": 3
   },
   "file_extension": ".py",
   "mimetype": "text/x-python",
   "name": "python",
   "nbconvert_exporter": "python",
   "pygments_lexer": "ipython3",
   "version": "3.7.9"
  }
 },
 "nbformat": 4,
 "nbformat_minor": 4
}
